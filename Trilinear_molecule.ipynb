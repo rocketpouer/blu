{
  "cells": [
    {
      "cell_type": "code",
      "execution_count": null,
      "id": "770f5726",
      "metadata": {
        "id": "770f5726"
      },
      "outputs": [],
      "source": [
        "from sympy import *\n",
        "import sympy.physics.mechanics as mech\n",
        "mech.init_vprinting()"
      ]
    },
    {
      "cell_type": "code",
      "execution_count": null,
      "id": "cbd6ed65",
      "metadata": {
        "id": "cbd6ed65"
      },
      "outputs": [],
      "source": [
        "m, M, k= symbols('m, M, k', positive=True)"
      ]
    },
    {
      "cell_type": "code",
      "execution_count": null,
      "id": "6f3c278b",
      "metadata": {
        "id": "6f3c278b",
        "outputId": "75e56f84-dbb4-45a6-e1b0-dda3ec50bf8a"
      },
      "outputs": [
        {
          "data": {
            "image/png": "[encoded data removed]",
            "text/latex": [
              "$\\displaystyle \\left[\\begin{matrix}m & 0 & 0\\\\0 & M & 0\\\\0 & 0 & m\\end{matrix}\\right]$"
            ],
            "text/plain": [
              "⎡m  0  0⎤\n",
              "⎢       ⎥\n",
              "⎢0  M  0⎥\n",
              "⎢       ⎥\n",
              "⎣0  0  m⎦"
            ]
          },
          "execution_count": 3,
          "metadata": {},
          "output_type": "execute_result"
        }
      ],
      "source": [
        "MD=Matrix([[m,0,0],[0,M,0],[0,0,m]])\n",
        "MD"
      ]
    },
    {
      "cell_type": "code",
      "execution_count": null,
      "id": "e0741b44",
      "metadata": {
        "id": "e0741b44",
        "outputId": "e03a7e82-ff52-4cfb-ca88-1e00363a5cd4"
      },
      "outputs": [
        {
          "data": {
            "image/png": "[encoded data removed]",
            "text/latex": [
              "$\\displaystyle \\left[\\begin{matrix}k & - k & 0\\\\- k & 2 k & - k\\\\0 & - k & k\\end{matrix}\\right]$"
            ],
            "text/plain": [
              "⎡k   -k   0 ⎤\n",
              "⎢           ⎥\n",
              "⎢-k  2⋅k  -k⎥\n",
              "⎢           ⎥\n",
              "⎣0   -k   k ⎦"
            ]
          },
          "execution_count": 4,
          "metadata": {},
          "output_type": "execute_result"
        }
      ],
      "source": [
        "K=Matrix([[k,-k,0],[-k,2*k,-k],[0,-k,k]])\n",
        "K"
      ]
    },
    {
      "cell_type": "code",
      "execution_count": null,
      "id": "1709cf2c",
      "metadata": {
        "id": "1709cf2c",
        "outputId": "d6447c25-b7ba-434a-8af0-a978c0a4166e"
      },
      "outputs": [
        {
          "data": {
            "image/png": "[encoded data removed]",
            "text/latex": [
              "$\\displaystyle \\left[\\begin{matrix}\\frac{k}{m} & - \\frac{k}{\\sqrt{M} \\sqrt{m}} & 0\\\\- \\frac{k}{\\sqrt{M} \\sqrt{m}} & \\frac{2 k}{M} & - \\frac{k}{\\sqrt{M} \\sqrt{m}}\\\\0 & - \\frac{k}{\\sqrt{M} \\sqrt{m}} & \\frac{k}{m}\\end{matrix}\\right]$"
            ],
            "text/plain": [
              "⎡  k     -k         ⎤\n",
              "⎢  ─    ─────    0  ⎥\n",
              "⎢  m    √M⋅√m       ⎥\n",
              "⎢                   ⎥\n",
              "⎢ -k     2⋅k    -k  ⎥\n",
              "⎢─────   ───   ─────⎥\n",
              "⎢√M⋅√m    M    √M⋅√m⎥\n",
              "⎢                   ⎥\n",
              "⎢        -k      k  ⎥\n",
              "⎢  0    ─────    ─  ⎥\n",
              "⎣       √M⋅√m    m  ⎦"
            ]
          },
          "execution_count": 5,
          "metadata": {},
          "output_type": "execute_result"
        }
      ],
      "source": [
        "W=sqrt(MD)**(-1)*K*sqrt(MD)**(-1)\n",
        "W"
      ]
    },
    {
      "cell_type": "code",
      "execution_count": null,
      "id": "77601888",
      "metadata": {
        "id": "77601888",
        "outputId": "86109d85-aafb-4855-ce7a-086e53b4f056"
      },
      "outputs": [
        {
          "data": {
            "image/png": "[encoded data removed]",
            "text/latex": [
              "$\\displaystyle \\left[\\begin{matrix}1 & 0 & 0\\\\0 & 1 & 0\\\\0 & 0 & 1\\end{matrix}\\right]$"
            ],
            "text/plain": [
              "⎡1  0  0⎤\n",
              "⎢       ⎥\n",
              "⎢0  1  0⎥\n",
              "⎢       ⎥\n",
              "⎣0  0  1⎦"
            ]
          },
          "execution_count": 6,
          "metadata": {},
          "output_type": "execute_result"
        }
      ],
      "source": [
        "sqrt(MD)**(-1)*MD*sqrt(MD)**(-1)"
      ]
    },
    {
      "cell_type": "code",
      "execution_count": null,
      "id": "a91c4856",
      "metadata": {
        "id": "a91c4856",
        "outputId": "0d68ba20-a57e-46eb-efa1-0ea2a2bcc9fe"
      },
      "outputs": [
        {
          "data": {
            "image/png": "[encoded data removed]",
            "text/latex": [
              "$\\displaystyle \\left[\\begin{matrix}0 & 0 & 0\\\\0 & \\frac{k}{m} & 0\\\\0 & 0 & \\frac{k}{m} + \\frac{2 k}{M}\\end{matrix}\\right]$"
            ],
            "text/plain": [
              "⎡0  0     0   ⎤\n",
              "⎢             ⎥\n",
              "⎢   k         ⎥\n",
              "⎢0  ─     0   ⎥\n",
              "⎢   m         ⎥\n",
              "⎢             ⎥\n",
              "⎢      k   2⋅k⎥\n",
              "⎢0  0  ─ + ───⎥\n",
              "⎣      m    M ⎦"
            ]
          },
          "execution_count": 23,
          "metadata": {},
          "output_type": "execute_result"
        }
      ],
      "source": [
        "O0,WD=W.diagonalize()\n",
        "WD.simplify()"
      ]
    },
    {
      "cell_type": "code",
      "execution_count": null,
      "id": "0adcaf40",
      "metadata": {
        "id": "0adcaf40"
      },
      "outputs": [],
      "source": [
        "#Normalization of the eigenvectors of W"
      ]
    },
    {
      "cell_type": "code",
      "execution_count": null,
      "id": "03d4cf69",
      "metadata": {
        "id": "03d4cf69"
      },
      "outputs": [],
      "source": [
        "O1=(O0*sqrt(conjugate(transpose(O0))*O0)**(-1)).simplify()"
      ]
    },
    {
      "cell_type": "code",
      "execution_count": null,
      "id": "01b07be7",
      "metadata": {
        "scrolled": true,
        "id": "01b07be7",
        "outputId": "02a74971-a71b-49ad-c919-052679ef0158"
      },
      "outputs": [
        {
          "data": {
            "image/png": "[encoded data removed]",
            "text/latex": [
              "$\\displaystyle \\left[\\begin{matrix}\\frac{\\sqrt{m}}{\\sqrt{M + 2 m}} & - \\frac{\\sqrt{2}}{2} & \\frac{1}{\\sqrt{2 + \\frac{4 m}{M}}}\\\\\\frac{\\sqrt{M}}{\\sqrt{M + 2 m}} & 0 & - \\frac{\\sqrt{2} \\sqrt{m}}{\\sqrt{M + 2 m}}\\\\\\frac{\\sqrt{m}}{\\sqrt{M + 2 m}} & \\frac{\\sqrt{2}}{2} & \\frac{1}{\\sqrt{2 + \\frac{4 m}{M}}}\\end{matrix}\\right]$"
            ],
            "text/plain": [
              "⎡     √m      -√2         1      ⎤\n",
              "⎢───────────  ────  ─────────────⎥\n",
              "⎢  _________   2        _________⎥\n",
              "⎢╲╱ M + 2⋅m            ╱     4⋅m ⎥\n",
              "⎢                     ╱  2 + ─── ⎥\n",
              "⎢                   ╲╱        M  ⎥\n",
              "⎢                                ⎥\n",
              "⎢     √M               -√2⋅√m    ⎥\n",
              "⎢───────────   0     ─────────── ⎥\n",
              "⎢  _________           _________ ⎥\n",
              "⎢╲╱ M + 2⋅m          ╲╱ M + 2⋅m  ⎥\n",
              "⎢                                ⎥\n",
              "⎢     √m       √2         1      ⎥\n",
              "⎢───────────   ──   ─────────────⎥\n",
              "⎢  _________   2        _________⎥\n",
              "⎢╲╱ M + 2⋅m            ╱     4⋅m ⎥\n",
              "⎢                     ╱  2 + ─── ⎥\n",
              "⎣                   ╲╱        M  ⎦"
            ]
          },
          "execution_count": 10,
          "metadata": {},
          "output_type": "execute_result"
        }
      ],
      "source": [
        "O1"
      ]
    },
    {
      "cell_type": "code",
      "execution_count": null,
      "id": "06f162de",
      "metadata": {
        "id": "06f162de",
        "outputId": "99421af9-4106-4980-9a86-6d06da12be35"
      },
      "outputs": [
        {
          "data": {
            "image/png": "[encoded data removed]",
            "text/latex": [
              "$\\displaystyle \\left[\\begin{matrix}0 & 0 & 0\\\\0 & \\frac{k}{m} & 0\\\\0 & 0 & \\frac{k}{m} + \\frac{2 k}{M}\\end{matrix}\\right]$"
            ],
            "text/plain": [
              "⎡0  0     0   ⎤\n",
              "⎢             ⎥\n",
              "⎢   k         ⎥\n",
              "⎢0  ─     0   ⎥\n",
              "⎢   m         ⎥\n",
              "⎢             ⎥\n",
              "⎢      k   2⋅k⎥\n",
              "⎢0  0  ─ + ───⎥\n",
              "⎣      m    M ⎦"
            ]
          },
          "execution_count": 16,
          "metadata": {},
          "output_type": "execute_result"
        }
      ],
      "source": [
        "(O0**(-1)*W*O0).simplify()"
      ]
    },
    {
      "cell_type": "code",
      "execution_count": null,
      "id": "e4855ffd",
      "metadata": {
        "id": "e4855ffd",
        "outputId": "c46ea821-c0cc-43d1-a220-78a969894897"
      },
      "outputs": [
        {
          "data": {
            "image/png": "[encoded data removed]",
            "text/latex": [
              "$\\displaystyle \\left[\\begin{matrix}\\frac{M}{m} + 2 & 0 & 0\\\\0 & 2 & 0\\\\0 & 0 & 2 + \\frac{4 m}{M}\\end{matrix}\\right]$"
            ],
            "text/plain": [
              "⎡M                ⎤\n",
              "⎢─ + 2  0     0   ⎥\n",
              "⎢m                ⎥\n",
              "⎢                 ⎥\n",
              "⎢  0    2     0   ⎥\n",
              "⎢                 ⎥\n",
              "⎢              4⋅m⎥\n",
              "⎢  0    0  2 + ───⎥\n",
              "⎣               M ⎦"
            ]
          },
          "execution_count": 18,
          "metadata": {},
          "output_type": "execute_result"
        }
      ],
      "source": [
        "conjugate(transpose(O0))*O0"
      ]
    },
    {
      "cell_type": "code",
      "execution_count": null,
      "id": "f8eb9634",
      "metadata": {
        "id": "f8eb9634",
        "outputId": "61b4aa14-e5fb-4e4b-fced-b1f2f2d7ce0d"
      },
      "outputs": [
        {
          "data": {
            "image/png": "[encoded data removed]",
            "text/latex": [
              "$\\displaystyle \\left[\\begin{matrix}1 & 0 & 0\\\\0 & 1 & 0\\\\0 & 0 & 1\\end{matrix}\\right]$"
            ],
            "text/plain": [
              "⎡1  0  0⎤\n",
              "⎢       ⎥\n",
              "⎢0  1  0⎥\n",
              "⎢       ⎥\n",
              "⎣0  0  1⎦"
            ]
          },
          "execution_count": 20,
          "metadata": {},
          "output_type": "execute_result"
        }
      ],
      "source": [
        "(transpose(O1)*O1).simplify()"
      ]
    },
    {
      "cell_type": "code",
      "execution_count": null,
      "id": "cc437e5f",
      "metadata": {
        "id": "cc437e5f",
        "outputId": "2a3378a9-0b8e-452a-dc5d-f40293612075"
      },
      "outputs": [
        {
          "data": {
            "image/png": "[encoded data removed]",
            "text/latex": [
              "$\\displaystyle \\left[\\begin{matrix}0 & 0 & 0\\\\0 & \\frac{k}{m} & 0\\\\0 & 0 & \\frac{k}{m} + \\frac{2 k}{M}\\end{matrix}\\right]$"
            ],
            "text/plain": [
              "⎡0  0     0   ⎤\n",
              "⎢             ⎥\n",
              "⎢   k         ⎥\n",
              "⎢0  ─     0   ⎥\n",
              "⎢   m         ⎥\n",
              "⎢             ⎥\n",
              "⎢      k   2⋅k⎥\n",
              "⎢0  0  ─ + ───⎥\n",
              "⎣      m    M ⎦"
            ]
          },
          "execution_count": 21,
          "metadata": {},
          "output_type": "execute_result"
        }
      ],
      "source": [
        "(transpose(O1)*W*O1).simplify()"
      ]
    },
    {
      "cell_type": "code",
      "execution_count": null,
      "id": "82be8de1",
      "metadata": {
        "id": "82be8de1"
      },
      "outputs": [],
      "source": [
        "#Modal Matrix"
      ]
    },
    {
      "cell_type": "code",
      "execution_count": null,
      "id": "c44c1fbc",
      "metadata": {
        "id": "c44c1fbc",
        "outputId": "40f7d38b-73f0-4772-f089-a50f9940fcdf"
      },
      "outputs": [
        {
          "data": {
            "image/png": "[encoded data removed]",
            "text/latex": [
              "$\\displaystyle \\left[\\begin{matrix}\\frac{1}{\\sqrt{M + 2 m}} & - \\frac{\\sqrt{2}}{2 \\sqrt{m}} & \\frac{\\sqrt{2} \\sqrt{M}}{2 \\sqrt{m} \\sqrt{M + 2 m}}\\\\\\frac{1}{\\sqrt{M + 2 m}} & 0 & - \\frac{\\sqrt{2} \\sqrt{m}}{\\sqrt{M} \\sqrt{M + 2 m}}\\\\\\frac{1}{\\sqrt{M + 2 m}} & \\frac{\\sqrt{2}}{2 \\sqrt{m}} & \\frac{\\sqrt{2} \\sqrt{M}}{2 \\sqrt{m} \\sqrt{M + 2 m}}\\end{matrix}\\right]$"
            ],
            "text/plain": [
              "⎡     1       -√2        √2⋅√M      ⎤\n",
              "⎢───────────  ────  ────────────────⎥\n",
              "⎢  _________  2⋅√m         _________⎥\n",
              "⎢╲╱ M + 2⋅m         2⋅√m⋅╲╱ M + 2⋅m ⎥\n",
              "⎢                                   ⎥\n",
              "⎢     1                 -√2⋅√m      ⎥\n",
              "⎢───────────   0     ────────────── ⎥\n",
              "⎢  _________              _________ ⎥\n",
              "⎢╲╱ M + 2⋅m          √M⋅╲╱ M + 2⋅m  ⎥\n",
              "⎢                                   ⎥\n",
              "⎢     1        √2        √2⋅√M      ⎥\n",
              "⎢───────────  ────  ────────────────⎥\n",
              "⎢  _________  2⋅√m         _________⎥\n",
              "⎣╲╱ M + 2⋅m         2⋅√m⋅╲╱ M + 2⋅m ⎦"
            ]
          },
          "execution_count": 26,
          "metadata": {},
          "output_type": "execute_result"
        }
      ],
      "source": [
        "S=(sqrt(MD)**(-1)*O1).simplify()\n",
        "S"
      ]
    },
    {
      "cell_type": "code",
      "execution_count": null,
      "id": "ed0652a0",
      "metadata": {
        "id": "ed0652a0",
        "outputId": "e1c2980a-f4a9-466c-b005-9835196c3582"
      },
      "outputs": [
        {
          "data": {
            "image/png": "[encoded data removed]",
            "text/latex": [
              "$\\displaystyle \\left[\\begin{matrix}1 & 0 & 0\\\\0 & 1 & 0\\\\0 & 0 & 1\\end{matrix}\\right]$"
            ],
            "text/plain": [
              "⎡1  0  0⎤\n",
              "⎢       ⎥\n",
              "⎢0  1  0⎥\n",
              "⎢       ⎥\n",
              "⎣0  0  1⎦"
            ]
          },
          "execution_count": 31,
          "metadata": {},
          "output_type": "execute_result"
        }
      ],
      "source": [
        "(transpose(S)*MD*S).simplify()"
      ]
    },
    {
      "cell_type": "code",
      "execution_count": null,
      "id": "c3f7e0c5",
      "metadata": {
        "id": "c3f7e0c5",
        "outputId": "8ae78f03-644d-4125-eaa9-a94a050ff4ad"
      },
      "outputs": [
        {
          "data": {
            "image/png": "[encoded data removed]",
            "text/latex": [
              "$\\displaystyle \\left[\\begin{matrix}0 & 0 & 0\\\\0 & \\frac{k}{m} & 0\\\\0 & 0 & \\frac{k}{m} + \\frac{2 k}{M}\\end{matrix}\\right]$"
            ],
            "text/plain": [
              "⎡0  0     0   ⎤\n",
              "⎢             ⎥\n",
              "⎢   k         ⎥\n",
              "⎢0  ─     0   ⎥\n",
              "⎢   m         ⎥\n",
              "⎢             ⎥\n",
              "⎢      k   2⋅k⎥\n",
              "⎢0  0  ─ + ───⎥\n",
              "⎣      m    M ⎦"
            ]
          },
          "execution_count": 32,
          "metadata": {},
          "output_type": "execute_result"
        }
      ],
      "source": [
        "(transpose(S)*K*S).simplify()"
      ]
    },
    {
      "cell_type": "code",
      "execution_count": null,
      "id": "7c890d03",
      "metadata": {
        "id": "7c890d03",
        "outputId": "51d2e9ff-e04e-4786-f17b-a2101e50eef5"
      },
      "outputs": [
        {
          "data": {
            "image/png": "[encoded data removed]",
            "text/latex": [
              "$\\displaystyle \\left[\\begin{matrix}\\frac{3}{M + 2 m} & 0 & \\frac{\\sqrt{2} \\left(M - m\\right)}{\\sqrt{M} \\sqrt{m} \\left(M + 2 m\\right)}\\\\0 & \\frac{1}{m} & 0\\\\\\frac{\\sqrt{2} \\left(M - m\\right)}{\\sqrt{M} \\sqrt{m} \\left(M + 2 m\\right)} & 0 & \\frac{M^{2} + 2 m^{2}}{M m \\left(M + 2 m\\right)}\\end{matrix}\\right]$"
            ],
            "text/plain": [
              "⎡       3               √2⋅(M - m)  ⎤\n",
              "⎢    ───────      0  ───────────────⎥\n",
              "⎢    M + 2⋅m         √M⋅√m⋅(M + 2⋅m)⎥\n",
              "⎢                                   ⎥\n",
              "⎢                 1                 ⎥\n",
              "⎢       0         ─         0       ⎥\n",
              "⎢                 m                 ⎥\n",
              "⎢                                   ⎥\n",
              "⎢                        2      2   ⎥\n",
              "⎢   √2⋅(M - m)          M  + 2⋅m    ⎥\n",
              "⎢───────────────  0   ───────────── ⎥\n",
              "⎣√M⋅√m⋅(M + 2⋅m)      M⋅m⋅(M + 2⋅m) ⎦"
            ]
          },
          "execution_count": 33,
          "metadata": {},
          "output_type": "execute_result"
        }
      ],
      "source": [
        "(transpose(S)*S).simplify()"
      ]
    },
    {
      "cell_type": "code",
      "execution_count": null,
      "id": "ecc4f696",
      "metadata": {
        "id": "ecc4f696",
        "outputId": "4c5c10f6-6219-4db7-c830-033899fbb046"
      },
      "outputs": [
        {
          "data": {
            "image/png": "[encoded data removed]",
            "text/latex": [
              "$\\displaystyle \\left[\\begin{matrix}\\frac{m}{\\sqrt{M + 2 m}} & \\frac{M}{\\sqrt{M + 2 m}} & \\frac{m}{\\sqrt{M + 2 m}}\\\\- \\frac{\\sqrt{2} \\sqrt{m}}{2} & 0 & \\frac{\\sqrt{2} \\sqrt{m}}{2}\\\\\\frac{\\sqrt{2} \\sqrt{M} \\sqrt{m} \\left(M + 2 m\\right)^{\\frac{3}{2}}}{2 \\left(M^{2} + 4 M m + 4 m^{2}\\right)} & - \\frac{\\sqrt{2} \\sqrt{M} \\sqrt{m} \\left(M + 2 m\\right)^{\\frac{3}{2}}}{M^{2} + 4 M m + 4 m^{2}} & \\frac{\\sqrt{2} \\sqrt{M} \\sqrt{m} \\left(M + 2 m\\right)^{\\frac{3}{2}}}{2 \\left(M^{2} + 4 M m + 4 m^{2}\\right)}\\end{matrix}\\right]$"
            ],
            "text/plain": [
              "⎡          m                       M                       m          ⎤\n",
              "⎢     ───────────             ───────────             ───────────     ⎥\n",
              "⎢       _________               _________               _________     ⎥\n",
              "⎢     ╲╱ M + 2⋅m              ╲╱ M + 2⋅m              ╲╱ M + 2⋅m      ⎥\n",
              "⎢                                                                     ⎥\n",
              "⎢       -√2⋅√m                                           √2⋅√m        ⎥\n",
              "⎢       ───────                    0                     ─────        ⎥\n",
              "⎢          2                                               2          ⎥\n",
              "⎢                                                                     ⎥\n",
              "⎢                  3/2                     3/2                     3/2⎥\n",
              "⎢√2⋅√M⋅√m⋅(M + 2⋅m)     -√2⋅√M⋅√m⋅(M + 2⋅m)      √2⋅√M⋅√m⋅(M + 2⋅m)   ⎥\n",
              "⎢─────────────────────  ───────────────────────  ─────────────────────⎥\n",
              "⎢  ⎛ 2              2⎞      2              2       ⎛ 2              2⎞⎥\n",
              "⎣2⋅⎝M  + 4⋅M⋅m + 4⋅m ⎠     M  + 4⋅M⋅m + 4⋅m      2⋅⎝M  + 4⋅M⋅m + 4⋅m ⎠⎦"
            ]
          },
          "execution_count": 35,
          "metadata": {},
          "output_type": "execute_result"
        }
      ],
      "source": [
        "(S**(-1)).simplify()"
      ]
    },
    {
      "cell_type": "code",
      "execution_count": null,
      "id": "98ccb4e6",
      "metadata": {
        "id": "98ccb4e6"
      },
      "outputs": [],
      "source": [
        "#Example"
      ]
    },
    {
      "cell_type": "code",
      "execution_count": null,
      "id": "d0c6cf0b",
      "metadata": {
        "id": "d0c6cf0b"
      },
      "outputs": [],
      "source": [
        "A,t,omega2,omega3=symbols('A,t,omega2,omega3')"
      ]
    },
    {
      "cell_type": "code",
      "execution_count": null,
      "id": "7436e33e",
      "metadata": {
        "id": "7436e33e",
        "outputId": "c86206ab-d6d1-4aa9-a503-0e7490d7321e"
      },
      "outputs": [
        {
          "data": {
            "image/png": "[encoded data removed]",
            "text/latex": [
              "$\\displaystyle \\left[\\begin{matrix}1 & -1 & 1\\\\\\frac{\\sqrt{M}}{\\sqrt{m}} & 0 & - \\frac{2 \\sqrt{m}}{\\sqrt{M}}\\\\1 & 1 & 1\\end{matrix}\\right]$"
            ],
            "text/plain": [
              "⎡1   -1    1   ⎤\n",
              "⎢              ⎥\n",
              "⎢√M      -2⋅√m ⎥\n",
              "⎢──  0   ──────⎥\n",
              "⎢√m        √M  ⎥\n",
              "⎢              ⎥\n",
              "⎣1   1     1   ⎦"
            ]
          },
          "execution_count": 38,
          "metadata": {},
          "output_type": "execute_result"
        }
      ],
      "source": [
        "O0"
      ]
    },
    {
      "cell_type": "code",
      "execution_count": null,
      "id": "ca3b0203",
      "metadata": {
        "id": "ca3b0203"
      },
      "outputs": [],
      "source": [
        ""
      ]
    }
  ],
  "metadata": {
    "kernelspec": {
      "display_name": "Python 3 (ipykernel)",
      "language": "python",
      "name": "python3"
    },
    "language_info": {
      "codemirror_mode": {
        "name": "ipython",
        "version": 3
      },
      "file_extension": ".py",
      "mimetype": "text/x-python",
      "name": "python",
      "nbconvert_exporter": "python",
      "pygments_lexer": "ipython3",
      "version": "3.9.10"
    },
    "colab": {
      "name": "Trilinear molecule.ipynb",
      "provenance": []
    }
  },
  "nbformat": 4,
  "nbformat_minor": 5
}