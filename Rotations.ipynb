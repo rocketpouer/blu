{
  "cells": [
    {
      "cell_type": "code",
      "execution_count": null,
      "metadata": {
        "id": "wGaO0fOJmsz1"
      },
      "outputs": [],
      "source": [
        "import sympy.physics.mechanics as mech\n",
        "mech.init_vprinting()\n",
        "from sympy import *"
      ]
    },
    {
      "cell_type": "code",
      "execution_count": null,
      "metadata": {
        "id": "cMmzbKv5ms0B"
      },
      "outputs": [],
      "source": [
        "#Rotations in 2D"
      ]
    },
    {
      "cell_type": "code",
      "execution_count": null,
      "metadata": {
        "id": "ixMhxvgrms0D"
      },
      "outputs": [],
      "source": [
        "theta, theta1,theta2,theta3=symbols('theta, theta1,theta2,theta3',positive=True)"
      ]
    },
    {
      "cell_type": "code",
      "execution_count": null,
      "metadata": {
        "id": "9GcmTPLBms0E",
        "outputId": "95dcebf4-bfa0-4d08-925c-f18da2bcd248"
      },
      "outputs": [
        {
          "data": {
            "text/latex": [
              "$\\displaystyle \\left[\\begin{matrix}\\operatorname{cos}\\left(\\theta\\right) & - \\operatorname{sin}\\left(\\theta\\right)\\\\\\operatorname{sin}\\left(\\theta\\right) & \\operatorname{cos}\\left(\\theta\\right)\\end{matrix}\\right]$"
            ],
            "text/plain": [
              "⎡cos(θ)  -sin(θ)⎤\n",
              "⎢               ⎥\n",
              "⎣sin(θ)  cos(θ) ⎦"
            ]
          },
          "execution_count": 4,
          "metadata": {},
          "output_type": "execute_result"
        }
      ],
      "source": [
        "R=Matrix([[cos(theta),-sin(theta)],[sin(theta),cos(theta)]])\n",
        "R"
      ]
    },
    {
      "cell_type": "code",
      "execution_count": null,
      "metadata": {
        "id": "MQOBb-_Ums0J"
      },
      "outputs": [],
      "source": [
        "##Group Axioms\n",
        "#Closure"
      ]
    },
    {
      "cell_type": "code",
      "execution_count": null,
      "metadata": {
        "id": "HEEHgt8dms0M",
        "outputId": "d7c37e6c-0b90-4c45-b0fc-07f9b2b4d2c7"
      },
      "outputs": [
        {
          "data": {
            "text/plain": [
              "True"
            ]
          },
          "execution_count": 9,
          "metadata": {},
          "output_type": "execute_result"
        }
      ],
      "source": [
        "simplify((R.subs(theta,theta1))*(R.subs(theta,theta2)))==R.subs(theta,theta1+theta2)"
      ]
    },
    {
      "cell_type": "code",
      "execution_count": null,
      "metadata": {
        "id": "Q8b4wajzms0O"
      },
      "outputs": [],
      "source": [
        "#Identity"
      ]
    },
    {
      "cell_type": "code",
      "execution_count": null,
      "metadata": {
        "id": "-hV1dphBms0Q",
        "outputId": "2bca52c5-626b-4a0f-cb77-7ba11db6a286"
      },
      "outputs": [
        {
          "data": {
            "text/latex": [
              "$\\displaystyle \\left[\\begin{matrix}1 & 0\\\\0 & 1\\end{matrix}\\right]$"
            ],
            "text/plain": [
              "⎡1  0⎤\n",
              "⎢    ⎥\n",
              "⎣0  1⎦"
            ]
          },
          "execution_count": 11,
          "metadata": {},
          "output_type": "execute_result"
        }
      ],
      "source": [
        "R.subs(theta,0)"
      ]
    },
    {
      "cell_type": "code",
      "execution_count": null,
      "metadata": {
        "id": "0CWa_MuVms0S"
      },
      "outputs": [],
      "source": [
        "#Inverse"
      ]
    },
    {
      "cell_type": "code",
      "execution_count": null,
      "metadata": {
        "id": "g-02Ka6Ams0U",
        "outputId": "57090e93-82e3-4e1e-f03a-629efeb2f37f"
      },
      "outputs": [
        {
          "data": {
            "text/latex": [
              "$\\displaystyle \\left[\\begin{matrix}1 & 0\\\\0 & 1\\end{matrix}\\right]$"
            ],
            "text/plain": [
              "⎡1  0⎤\n",
              "⎢    ⎥\n",
              "⎣0  1⎦"
            ]
          },
          "execution_count": 13,
          "metadata": {},
          "output_type": "execute_result"
        }
      ],
      "source": [
        "simplify((R.subs(theta,theta1))*(R.subs(theta,-theta1)))"
      ]
    },
    {
      "cell_type": "code",
      "execution_count": null,
      "metadata": {
        "id": "U6aPjMnAms0W",
        "outputId": "d11a4f06-1830-462a-d176-6a3613f74aac"
      },
      "outputs": [
        {
          "data": {
            "text/latex": [
              "$\\displaystyle \\left[\\begin{matrix}1 & 0\\\\0 & 1\\end{matrix}\\right]$"
            ],
            "text/plain": [
              "⎡1  0⎤\n",
              "⎢    ⎥\n",
              "⎣0  1⎦"
            ]
          },
          "execution_count": 15,
          "metadata": {},
          "output_type": "execute_result"
        }
      ],
      "source": [
        "simplify(transpose(R)*R)"
      ]
    },
    {
      "cell_type": "code",
      "execution_count": null,
      "metadata": {
        "id": "NKKbLRNums0X",
        "outputId": "dd3cb25a-e955-4e81-9cb9-e06dfaaa71d5"
      },
      "outputs": [
        {
          "data": {
            "image/png": "[encoded data removed]",
            "text/latex": [
              "$\\displaystyle 1$"
            ],
            "text/plain": [
              "1"
            ]
          },
          "execution_count": 18,
          "metadata": {},
          "output_type": "execute_result"
        }
      ],
      "source": [
        "det(R).simplify()"
      ]
    },
    {
      "cell_type": "code",
      "execution_count": null,
      "metadata": {
        "id": "f9o93K7Sms0Y"
      },
      "outputs": [],
      "source": [
        "#Generator"
      ]
    },
    {
      "cell_type": "code",
      "execution_count": null,
      "metadata": {
        "id": "h2D5QQhsms0Z",
        "outputId": "0994c45f-441e-4d8e-acf4-2581cf90e839"
      },
      "outputs": [
        {
          "data": {
            "text/latex": [
              "$\\displaystyle \\left[\\begin{matrix}0 & - i\\\\i & 0\\end{matrix}\\right]$"
            ],
            "text/plain": [
              "⎡0  -ⅈ⎤\n",
              "⎢     ⎥\n",
              "⎣ⅈ  0 ⎦"
            ]
          },
          "execution_count": 20,
          "metadata": {},
          "output_type": "execute_result"
        }
      ],
      "source": [
        "X=I*(R.diff(theta)).subs(theta,0)\n",
        "X"
      ]
    },
    {
      "cell_type": "code",
      "execution_count": null,
      "metadata": {
        "id": "BIUZ5V-Vms0b",
        "outputId": "6d8593fd-95bd-4271-ce94-c1d5a509d6f1"
      },
      "outputs": [
        {
          "data": {
            "text/latex": [
              "$\\displaystyle \\left[\\begin{matrix}\\operatorname{cos}\\left(\\theta\\right) & - \\operatorname{sin}\\left(\\theta\\right)\\\\\\operatorname{sin}\\left(\\theta\\right) & \\operatorname{cos}\\left(\\theta\\right)\\end{matrix}\\right]$"
            ],
            "text/plain": [
              "⎡cos(θ)  -sin(θ)⎤\n",
              "⎢               ⎥\n",
              "⎣sin(θ)  cos(θ) ⎦"
            ]
          },
          "execution_count": 21,
          "metadata": {},
          "output_type": "execute_result"
        }
      ],
      "source": [
        "exp(-I*theta*X)"
      ]
    },
    {
      "cell_type": "code",
      "execution_count": null,
      "metadata": {
        "id": "FVs0jnxZms0c"
      },
      "outputs": [],
      "source": [
        "#Rotations in 3D"
      ]
    },
    {
      "cell_type": "code",
      "execution_count": null,
      "metadata": {
        "id": "OVzaWVh2ms0d",
        "outputId": "ef9d8eaf-74c5-484b-a066-eca051a74ca5"
      },
      "outputs": [
        {
          "data": {
            "text/latex": [
              "$\\displaystyle \\left[\\begin{matrix}\\operatorname{cos}\\left(\\theta\\right) & - \\operatorname{sin}\\left(\\theta\\right) & 0\\\\\\operatorname{sin}\\left(\\theta\\right) & \\operatorname{cos}\\left(\\theta\\right) & 0\\\\0 & 0 & 1\\end{matrix}\\right]$"
            ],
            "text/plain": [
              "⎡cos(θ)  -sin(θ)  0⎤\n",
              "⎢                  ⎥\n",
              "⎢sin(θ)  cos(θ)   0⎥\n",
              "⎢                  ⎥\n",
              "⎣  0        0     1⎦"
            ]
          },
          "execution_count": 25,
          "metadata": {},
          "output_type": "execute_result"
        }
      ],
      "source": [
        "R1=Matrix([[1,0,0],\n",
        "           [0,cos(theta),-sin(theta)],\n",
        "           [0,sin(theta),cos(theta)]])\n",
        "R2=Matrix([[cos(theta),0,sin(theta)],\n",
        "           [0,1,0],\n",
        "           [-sin(theta),0,cos(theta)]])\n",
        "R3=Matrix([[cos(theta),-sin(theta),0],\n",
        "           [sin(theta),cos(theta),0],\n",
        "           [0,0,1]])\n",
        "R3"
      ]
    },
    {
      "cell_type": "code",
      "execution_count": null,
      "metadata": {
        "id": "1N37J38zms0f"
      },
      "outputs": [],
      "source": [
        "# Generators"
      ]
    },
    {
      "cell_type": "code",
      "execution_count": null,
      "metadata": {
        "id": "SD-RO1_Lms0g"
      },
      "outputs": [],
      "source": [
        "J1=I*(R1.diff(theta)).subs(theta,0)\n",
        "J2=I*(R2.diff(theta)).subs(theta,0)\n",
        "J3=I*(R3.diff(theta)).subs(theta,0)"
      ]
    },
    {
      "cell_type": "code",
      "execution_count": null,
      "metadata": {
        "id": "4rKtOh7pms0h",
        "outputId": "2387ea1d-aa53-4555-dd3d-bb977f8ef702"
      },
      "outputs": [
        {
          "data": {
            "text/latex": [
              "$\\displaystyle \\left[\\begin{matrix}0 & 0 & 0\\\\0 & 0 & - i\\\\0 & i & 0\\end{matrix}\\right]$"
            ],
            "text/plain": [
              "⎡0  0  0 ⎤\n",
              "⎢        ⎥\n",
              "⎢0  0  -ⅈ⎥\n",
              "⎢        ⎥\n",
              "⎣0  ⅈ  0 ⎦"
            ]
          },
          "execution_count": 29,
          "metadata": {},
          "output_type": "execute_result"
        }
      ],
      "source": [
        "J1"
      ]
    },
    {
      "cell_type": "code",
      "execution_count": null,
      "metadata": {
        "id": "gMQ_OWq2ms0j",
        "outputId": "0b56df6b-2a39-4838-8f39-2f92d860a38a"
      },
      "outputs": [
        {
          "data": {
            "text/latex": [
              "$\\displaystyle \\left[\\begin{matrix}0 & 0 & i\\\\0 & 0 & 0\\\\- i & 0 & 0\\end{matrix}\\right]$"
            ],
            "text/plain": [
              "⎡0   0  ⅈ⎤\n",
              "⎢        ⎥\n",
              "⎢0   0  0⎥\n",
              "⎢        ⎥\n",
              "⎣-ⅈ  0  0⎦"
            ]
          },
          "execution_count": 30,
          "metadata": {},
          "output_type": "execute_result"
        }
      ],
      "source": [
        "J2"
      ]
    },
    {
      "cell_type": "code",
      "execution_count": null,
      "metadata": {
        "id": "fOmehFOhms0k",
        "outputId": "885a0673-188a-4c45-f3dc-75c421035169"
      },
      "outputs": [
        {
          "data": {
            "text/latex": [
              "$\\displaystyle \\left[\\begin{matrix}0 & - i & 0\\\\i & 0 & 0\\\\0 & 0 & 0\\end{matrix}\\right]$"
            ],
            "text/plain": [
              "⎡0  -ⅈ  0⎤\n",
              "⎢        ⎥\n",
              "⎢ⅈ  0   0⎥\n",
              "⎢        ⎥\n",
              "⎣0  0   0⎦"
            ]
          },
          "execution_count": 31,
          "metadata": {},
          "output_type": "execute_result"
        }
      ],
      "source": [
        "J3"
      ]
    },
    {
      "cell_type": "code",
      "execution_count": null,
      "metadata": {
        "id": "be9NDleYms0l"
      },
      "outputs": [],
      "source": [
        "#Algebra"
      ]
    },
    {
      "cell_type": "code",
      "execution_count": null,
      "metadata": {
        "id": "QmKRcOkZms0m"
      },
      "outputs": [],
      "source": [
        "def comm(a,b):\n",
        "    return simplify(a*b-b*a)"
      ]
    },
    {
      "cell_type": "code",
      "execution_count": null,
      "metadata": {
        "id": "TLQx13A0ms0n",
        "outputId": "c822cf99-bd20-43f5-da0d-3b3fb73bfe92"
      },
      "outputs": [
        {
          "data": {
            "text/plain": [
              "True"
            ]
          },
          "execution_count": 35,
          "metadata": {},
          "output_type": "execute_result"
        }
      ],
      "source": [
        "comm(J1,J2)==I*J3"
      ]
    },
    {
      "cell_type": "code",
      "execution_count": null,
      "metadata": {
        "id": "-BkZP2sGms0o",
        "outputId": "a3f77f2e-8674-45db-b570-431099dcb680"
      },
      "outputs": [
        {
          "data": {
            "text/plain": [
              "True"
            ]
          },
          "execution_count": 36,
          "metadata": {},
          "output_type": "execute_result"
        }
      ],
      "source": [
        "comm(J2,J3)==I*J1"
      ]
    },
    {
      "cell_type": "code",
      "execution_count": null,
      "metadata": {
        "id": "2JU5Tj7gms0p",
        "outputId": "b1211ec4-4d6d-4108-af89-9e0c978b6b17"
      },
      "outputs": [
        {
          "data": {
            "text/plain": [
              "True"
            ]
          },
          "execution_count": 37,
          "metadata": {},
          "output_type": "execute_result"
        }
      ],
      "source": [
        "comm(J3,J1)==I*J2"
      ]
    },
    {
      "cell_type": "code",
      "execution_count": null,
      "metadata": {
        "id": "tWQX2sMVms0q"
      },
      "outputs": [],
      "source": [
        ""
      ]
    }
  ],
  "metadata": {
    "kernelspec": {
      "display_name": "Python 3",
      "language": "python",
      "name": "python3"
    },
    "language_info": {
      "codemirror_mode": {
        "name": "ipython",
        "version": 3
      },
      "file_extension": ".py",
      "mimetype": "text/x-python",
      "name": "python",
      "nbconvert_exporter": "python",
      "pygments_lexer": "ipython3",
      "version": "3.8.3"
    },
    "colab": {
      "name": "Rotations.ipynb",
      "provenance": []
    }
  },
  "nbformat": 4,
  "nbformat_minor": 0
}